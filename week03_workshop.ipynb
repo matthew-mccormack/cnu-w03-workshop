{
 "cells": [
  {
   "cell_type": "markdown",
   "metadata": {},
   "source": [
    "# Week 3 workshop: Errors, debugging, and code review\n",
    "\n",
    "A **bug** is simply an error or a mistake in your code, which makes it fail and/or produce the wrong result. Debugging is the process of finding and correcting bugs, by inspecting the output of the code under carefully chosen inputs and conditions.\n",
    "\n",
    "The first part of the task this week is all about understanding **error traces**, the error messages produced by Python when something goes wrong. Although they can be scary at first, they actually provide very useful information to help you fix your code.\n",
    "\n",
    "The second part of the task is about **code review** -- careful, systematic study of source code by people who are not the original author of the code. It’s analogous to **proofreading**.\n",
    "\n",
    "For the peer assessment in the CR tasks, you will review 3 other students' code. Today, we will discuss important aspects of what is usually considered to be \"good code\" and \"bad code\".\n",
    "\n",
    "---\n",
    "\n",
    "# Errors and exceptions\n",
    "\n",
    "You have probably already encountered a few **runtime errors** -- this is when Python fails to run your code for any reason, and gives you a short message to explain what went wrong. It is essential to know how to interpret these to debug your code and troubleshoot problems.\n",
    "\n",
    "Here is an example of a runtime error -- run the cell below:"
   ]
  },
  {
   "cell_type": "code",
   "execution_count": null,
   "metadata": {},
   "outputs": [],
   "source": [
    "my_string = 'Hello world'\n",
    "if my_string[0] == 'H'\n",
    "    print(my_string)"
   ]
  },
  {
   "cell_type": "markdown",
   "metadata": {},
   "source": [
    "Can you spot the error?\n",
    "\n",
    "- The first line of the error message indicates the *file* where the error happened -- this is useful when working on projects with many different Python scripts and custom modules, not so much for us here on Jupyter.\n",
    "\n",
    "- Note that the **line number** also appears in the error message. You can see line numbers in Jupyter notebooks by clicking <kbd>View</kbd> > <kbd>Toggle Line Numbers</kbd> in the menu bar at the top of the page.\n",
    "\n",
    "- The second line repeats the line where the error was detected, and we can check that this is indeed line 2 in our cell.\n",
    "\n",
    "- The third line only has a `^` character. This is simply an **arrow**, which indicates where the error was detected, on the line printed above. Here, the `^` sits just after the last character in the `if` statement; the colon `:` is missing.\n",
    "\n",
    "- Finally, the very last line indicates two things:\n",
    "    * the **type** of error -- here, a `SyntaxError`. Like everything else in Python, errors and exceptions are also objects with types.\n",
    "    * the **error message**, -- here, `invalid syntax`. The error message tries to give you more specific information about what the issue is.\n",
    "\n",
    "*Syntax errors* are what they sound like -- usually typos. They are detected even before the code is executed. They occur when the code you wrote is not valid Python syntax; in the example above, as pointed out by the little arrow `^`, we forgot the colon `:` at the end of the `if` statement.\n",
    "\n",
    "Here is another example -- a `TypeError`:"
   ]
  },
  {
   "cell_type": "code",
   "execution_count": null,
   "metadata": {},
   "outputs": [],
   "source": [
    "my_int = 4\n",
    "print(my_int[2])"
   ]
  },
  {
   "cell_type": "markdown",
   "metadata": {},
   "source": [
    "Here, the pointing arrow is on the side `---->`, as it's not really obvious where exactly on line 2 Python should point -- but it still tells you that the error is on line 2. The error message explains that we are trying to subscript an `int` object -- that is, to index an integer, something which is not a sequence or container.\n",
    "\n",
    "Simply speaking, when an **error** is detected in your code, an **exception** is raised, which interrupts execution and gives you some information about what went wrong. There are many built-in exception types in Python.\n",
    "\n",
    "## Your task\n",
    "\n",
    "Driver: run the code cells to see examples of different error **traces**. For each example, determine the **type** of error, **where** it happened, and try to understand what the error message is saying. Use this information to **debug** the code with your navigator(s).\n",
    "\n",
    "Pay attention to all the different parts of the error trace, they're all useful information!\n",
    "\n",
    "You can consult [the documentation which lists the different exception types in Python](https://docs.python.org/3/library/exceptions.html#bltin-exceptions). There is a Markdown cell under each code cell for you to take notes if you like.\n",
    "\n",
    "Don't forget to switch roles every 15-20 minutes!"
   ]
  },
  {
   "cell_type": "code",
   "execution_count": null,
   "metadata": {},
   "outputs": [],
   "source": [
    "my_list = [1, 2, 3, 4]\n",
    "\n",
    "# Print the 4th element of my_list\n",
    "print(my_list[4])"
   ]
  },
  {
   "cell_type": "markdown",
   "metadata": {},
   "source": [
    "Notes\n",
    "\n",
    "---"
   ]
  },
  {
   "cell_type": "code",
   "execution_count": null,
   "metadata": {},
   "outputs": [],
   "source": [
    "my_list = [1, 2, 3, 4]\n",
    "\n",
    "# Divide all numbers by 2\n",
    "print(my_list * 0.5)"
   ]
  },
  {
   "cell_type": "markdown",
   "metadata": {},
   "source": [
    "Notes\n",
    "\n",
    "---"
   ]
  },
  {
   "cell_type": "code",
   "execution_count": null,
   "metadata": {},
   "outputs": [],
   "source": [
    "my_list = [1, 2, 3, 4]\n",
    "print(my_ist)"
   ]
  },
  {
   "cell_type": "markdown",
   "metadata": {},
   "source": [
    "Notes\n",
    "\n",
    "---"
   ]
  },
  {
   "cell_type": "code",
   "execution_count": null,
   "metadata": {},
   "outputs": [],
   "source": [
    "import numpy as np\n",
    "\n",
    "print(np.sin((3 * np.pi) / (2)) * 5 * np.cos(-(2 * np.pi))"
   ]
  },
  {
   "cell_type": "markdown",
   "metadata": {},
   "source": [
    "Notes\n",
    "\n",
    "---"
   ]
  },
  {
   "cell_type": "code",
   "execution_count": null,
   "metadata": {},
   "outputs": [],
   "source": [
    "def my_func(x):\n",
    "    return x ** 2\n",
    "\n",
    "# Get a list of the first 5 squares\n",
    "print(my_func([1, 2, 3, 4, 5]))"
   ]
  },
  {
   "cell_type": "markdown",
   "metadata": {},
   "source": [
    "Notes\n",
    "\n",
    "---"
   ]
  },
  {
   "cell_type": "code",
   "execution_count": null,
   "metadata": {},
   "outputs": [],
   "source": [
    "import numpy as np\n",
    "\n",
    "A = np.zeros([4, 4])\n",
    "\n",
    "for i in range(4):\n",
    "    for j in range(4):\n",
    "        element = i ** j\n",
    "         A[i, j] = element\n",
    "   print(f'Row {i} is finished')\n",
    "\n",
    "print(A)"
   ]
  },
  {
   "cell_type": "markdown",
   "metadata": {},
   "source": [
    "Notes\n",
    "\n",
    "---"
   ]
  },
  {
   "cell_type": "code",
   "execution_count": null,
   "metadata": {
    "scrolled": true
   },
   "outputs": [],
   "source": [
    "a = int('432')\n",
    "b = int('five')\n",
    "c = int('1.12')"
   ]
  },
  {
   "cell_type": "markdown",
   "metadata": {},
   "source": [
    "Notes\n",
    "\n",
    "---"
   ]
  },
  {
   "cell_type": "code",
   "execution_count": null,
   "metadata": {},
   "outputs": [],
   "source": [
    "import numpy as np\n",
    "\n",
    "coords = [8.2, -1.1]\n",
    "mag = np.sqrt(((coords[0]**2) + (coords[1]**2))\n",
    "print(mag)"
   ]
  },
  {
   "cell_type": "markdown",
   "metadata": {},
   "source": [
    "Notes\n",
    "\n",
    "---"
   ]
  },
  {
   "cell_type": "code",
   "execution_count": null,
   "metadata": {},
   "outputs": [],
   "source": [
    "# Calculate sum of reciprocals up to 10\n",
    "S = 0\n",
    "\n",
    "for i in range(11):\n",
    "    S += 1 / i\n",
    "\n",
    "print(S)"
   ]
  },
  {
   "cell_type": "markdown",
   "metadata": {},
   "source": [
    "Notes\n",
    "\n",
    "---"
   ]
  },
  {
   "cell_type": "code",
   "execution_count": null,
   "metadata": {},
   "outputs": [],
   "source": [
    "def find_divisors(nums, n):\n",
    "    '''\n",
    "    Returns a list of all divisors of n\n",
    "    present in the list nums.\n",
    "    '''\n",
    "    divisors = []\n",
    "    for i in range(nums):\n",
    "        # Check if n is divisible by i\n",
    "        if n // i = 0:\n",
    "            divisor.apend(n)\n",
    "    \n",
    "    print(divisors)\n",
    "\n",
    "# Test example: result should be [1, 1, 1, 1] (no matter the choice of n)\n",
    "divisors = find_divisors([1, 1, 1, 1], 97)\n",
    "print(f'Result: {divisors}\\n')\n",
    "\n",
    "# Test example: result should be [1, 2, 3, 4, 6]\n",
    "# divisors = find_divisors([1, 2, 3, 4, 5, 6, 7, 8], 12)\n",
    "# print(f'Result: {divisors}\\n')"
   ]
  },
  {
   "cell_type": "markdown",
   "metadata": {},
   "source": [
    "Notes\n",
    "\n",
    "*hint: there are also bugs in this code which won't give a runtime error, but will simply give the wrong result. Can you find and fix them?*\n",
    "\n",
    "---"
   ]
  },
  {
   "cell_type": "markdown",
   "metadata": {},
   "source": [
    "### Bonus exercise\n",
    "\n",
    "Try to come up with other code examples which trigger certain types of error -- particularly `TypeError` and `ValueError`, as they tend to be the trickier ones."
   ]
  },
  {
   "cell_type": "code",
   "execution_count": null,
   "metadata": {},
   "outputs": [],
   "source": []
  },
  {
   "cell_type": "code",
   "execution_count": null,
   "metadata": {},
   "outputs": [],
   "source": []
  },
  {
   "cell_type": "code",
   "execution_count": null,
   "metadata": {},
   "outputs": [],
   "source": []
  },
  {
   "cell_type": "markdown",
   "metadata": {},
   "source": [
    "---\n",
    "\n",
    "# Code review\n",
    "\n",
    "Code review really has two purposes:\n",
    "\n",
    "* **Improving the code.** Finding bugs, anticipating possible bugs, checking the clarity of the code, and checking for consistency with the project’s style standards.\n",
    "* **Improving the programmer.** Code review is an important way that programmers learn and teach each other, about new language features, changes in the design of the project or its coding standards, and new techniques.\n",
    "\n",
    "---\n",
    "\n",
    "## Code comments\n",
    "\n",
    "Code comments are **essential**, not only if other people read your code (to help them understand what you are doing), but also for **yourself**! When coming back to a piece of code, even after just a few days, it can be surprisingly difficult to remember what you were doing by just reading the code -- having comments annotating your script is immensely helpful.\n",
    "\n",
    "From now on, all your work for this course (and beyond!) **must be appropriately commented**. This means that any step in your code that is not trivial should be **explained** (not simply *described!*) by a brief code comment.\n",
    "\n",
    "🚩 Consider the code example below. Are the comments useful for you to understand how the code works? If not, what is the problem, and how would you improve them?\n",
    "\n",
    "```python\n",
    "def fibonacci(n):\n",
    "    '''\n",
    "    Returns the Fibonacci sequence up to xn,\n",
    "    starting with x0 = 1, x1 = 1, as a list.\n",
    "    '''\n",
    "    # Set x as [1, 1]\n",
    "    x = [1, 1]\n",
    "    \n",
    "    # Loop over a range from 0 to n-2\n",
    "    for i in range(n-1):\n",
    "        # Append x[i] + x[i+1] to the list x\n",
    "        x.append(x[i] + x[i+1])\n",
    "    \n",
    "    # Return x\n",
    "    return x\n",
    "\n",
    "# Display fibonacci(5)\n",
    "print(fibonacci(5))\n",
    "```"
   ]
  },
  {
   "cell_type": "code",
   "execution_count": null,
   "metadata": {},
   "outputs": [],
   "source": []
  },
  {
   "cell_type": "markdown",
   "metadata": {},
   "source": [
    "---\n",
    "\n",
    "## Code style\n",
    "\n",
    "Generally, the structure, variable name, spacing, and commenting choices are referred to as the **style** of your code. Style is important for code readability, and for consistency when working as part of a team. You may wish to take a look at different style guides, such as e.g. [the official guide for Python developers](https://www.python.org/dev/peps/pep-0008).\n",
    "\n",
    "For the purpose of this course, don't worry too much about following these guidelines too strictly. The important points to take away is that your code should aim to be **easily readable**, and **consistently styled**.\n",
    "\n",
    "### Whitespace\n",
    "\n",
    "One particular practice we would recommend to adhere to is featured in the [Whitespace in Expressions and Statements](https://www.python.org/dev/peps/pep-0008/#whitespace-in-expressions-and-statements) section of PEP-8. To summarise it:\n",
    "\n",
    "```python\n",
    "import numpy as np\n",
    "\n",
    "#Some not very easily readable code...\n",
    "a=(np.sqrt(5))\n",
    "a +=2 *np.exp(4*np.pi)-np.sin (a**2)\n",
    "s='I am a string!'\n",
    "print(s[ 3 ])\n",
    "\n",
    "\n",
    "# A little better...\n",
    "a = np.sqrt(5)\n",
    "a += 2 * np.cos(4 * np.pi**2) - np.sin(a**2)\n",
    "\n",
    "s = 'I am a string!'\n",
    "print(s[3])\n",
    "```\n",
    "\n",
    "🚩 The following code finds the roots of the quadratic polynomial $p(x) = ax^2 + bx + c$. However, the author wrote it in a hurry. What can you do to improve it?\n",
    "\n",
    "```python\n",
    "a=2\n",
    "b=.5\n",
    "c=- 9\n",
    "\n",
    "import numpy\n",
    "x1=(-b-numpy.sqrt(b**2 -4*a*c)) / (2*a)\n",
    "x2=(-b+numpy.sqrt(b**2 -4*a*c)) / (2*a)\n",
    "a*x1**2+b*x1+c\n",
    "```"
   ]
  },
  {
   "cell_type": "code",
   "execution_count": null,
   "metadata": {},
   "outputs": [],
   "source": []
  },
  {
   "cell_type": "markdown",
   "metadata": {},
   "source": [
    "---\n",
    "## Code structure\n",
    "\n",
    "*Note:* The rest of the activity today is adapted from an MIT resource licensed under [CC BY-SA 4.0](http://creativecommons.org/licenses/by-sa/4.0/), available [here](https://web.mit.edu/6.005/www/fa15/classes/04-code-review/).\n",
    "\n",
    "There are other examples of good and bad practice available in that activity, which you are encouraged to read in your own time. The code is in Java, but it shouldn't be difficult to understand now that you know Python!\n",
    "\n",
    "---\n",
    "\n",
    "\n",
    "### An example of what not to do\n",
    "\n",
    "🚩 ***Task 1:*** What does this function do?"
   ]
  },
  {
   "cell_type": "code",
   "execution_count": null,
   "metadata": {},
   "outputs": [],
   "source": [
    "def day_of_year(day_of_month, month, year):\n",
    "    \n",
    "    if month == 2:\n",
    "        day_of_month += 31\n",
    "    elif month == 3:\n",
    "        day_of_month += 59\n",
    "    elif month == 4:\n",
    "        day_of_month += 90\n",
    "    elif month == 5:\n",
    "        day_of_month += 31 + 28 + 31 + 30\n",
    "    elif month == 6:\n",
    "        day_of_month += 31 + 28 + 31 + 30 + 31\n",
    "    elif month == 7:\n",
    "        day_of_month += 31 + 28 + 31 + 30 + 31 + 30\n",
    "    elif month == 8:\n",
    "        day_of_month += 31 + 28 + 31 + 30 + 31 + 30 + 31\n",
    "    elif month == 9:\n",
    "        day_of_month += 31 + 28 + 31 + 30 + 31 + 30 + 31 + 31\n",
    "    elif month == 10:\n",
    "        day_of_month += 31 + 28 + 31 + 30 + 31 + 30 + 31 + 31 + 30\n",
    "    elif month == 11:\n",
    "        day_of_month += 31 + 28 + 31 + 30 + 31 + 30 + 31 + 31 + 30 + 31\n",
    "    elif month == 12:\n",
    "        day_of_month += 31 + 28 + 31 + 30 + 31 + 30 + 31 + 31 + 30 + 31 + 31\n",
    "\n",
    "    return day_of_month"
   ]
  },
  {
   "cell_type": "markdown",
   "metadata": {},
   "source": [
    "---\n",
    "### DRY: Don't Repeat Yourself\n",
    "\n",
    "Duplicated code is a risk to safety. If you have identical or very similar code in two places, then the fundamental risk is that there’s a bug in both copies, and some maintainer fixes the bug in one place but not the other.\n",
    "\n",
    "*Don’t Repeat Yourself*, or DRY for short, has become a programmer’s mantra.\n",
    "\n",
    "The `day_of_year()` example is full of identical code. Let's see how we could DRY it out.\n",
    "\n",
    "---\n",
    "🚩 ***Task 2:*** One reason why repeated code is bad is because a problem in the repeated code has to be fixed in many places, not just one. Suppose our calendar changed so that February really has 30 days instead of 28. How many numbers in this code have to be changed?"
   ]
  },
  {
   "cell_type": "markdown",
   "metadata": {},
   "source": []
  },
  {
   "cell_type": "markdown",
   "metadata": {},
   "source": [
    "---\n",
    "🚩 ***Task 3:*** Another kind of repetition in this code is `day_of_month +=`. It is possible to rewrite this function so that `day_of_month +=` only appears **once**, with the help of a list; complete the code below to do this."
   ]
  },
  {
   "cell_type": "code",
   "execution_count": null,
   "metadata": {},
   "outputs": [],
   "source": [
    "def day_of_year(day_of_month, month, year):\n",
    "    \n",
    "    month_length = [31, 28, 31, 30, 31, 30, 31, 31, 30, 31, 30, 31]\n",
    "    \n",
    "    # Add your code below...\n",
    "    \n",
    "    "
   ]
  },
  {
   "cell_type": "markdown",
   "metadata": {},
   "source": [
    "---\n",
    "### One purpose for each variable\n",
    "\n",
    "In the `day_of_year()` example, the variable `day_of_month` is reused to compute a very different value — the return value of the function, which is **not** the day of the month.\n",
    "\n",
    "Variables are *not* a scarce resource in programming. Introduce them freely, give them good names, and just stop using them when you stop needing them. You will confuse your reader if a variable that used to mean one thing suddenly starts meaning something different a few lines down.\n",
    "\n",
    "---\n",
    "🚩 ***Task 4:*** Introduce an appropriately-named variable in your new `day_of_year()` function, in order to avoid reusing and overwriting `day_of_month`."
   ]
  },
  {
   "cell_type": "code",
   "execution_count": null,
   "metadata": {},
   "outputs": [],
   "source": []
  },
  {
   "cell_type": "markdown",
   "metadata": {},
   "source": [
    "---\n",
    "### Avoid magic numbers\n",
    "\n",
    "Constant numbers (apart from 0, 1, and maybe 2) need to be **explained**. One way to explain them is with a code comment, but a far better way is to create a variable with a good, explanatory name.\n",
    "\n",
    "In the original `day_of_year()` function, `59` (line 6) and `90` (line 8) are particularly bad examples of **magic numbers**. Not only are they uncommented and undocumented, they are actually the result of a computation done *by hand by the programmer*. **Don’t hardcode numbers that you’ve computed by hand**. Python is better at arithmetic than you are.\n",
    "\n",
    "Explicit computations like `31 + 28`, which was done on lines 10 and below, make the provenance of these mysterious numbers much clearer. Using the list `month_length` is also helpful here.\n",
    "\n",
    "---\n",
    "🚩 ***Task 5:*** In the *Task 3* version of `day_of_year()`, it would be reasonable to expect, for example, that `month_length[month]` should give the length of that month. Is that the case? Find a way to resolve this in your code, keeping the above principles in mind."
   ]
  },
  {
   "cell_type": "code",
   "execution_count": null,
   "metadata": {},
   "outputs": [],
   "source": []
  },
  {
   "cell_type": "markdown",
   "metadata": {},
   "source": [
    "---\n",
    "### Fail fast\n",
    "\n",
    "*Failing fast* means that code should reveal its bugs as early as possible. The earlier a problem is observed (the closer to its cause), the easier it is to find and fix. **Checking input argument values** fails faster than producing a wrong answer that may corrupt subsequent computation.\n",
    "\n",
    "The `day_of_year()` function doesn’t fail fast — if you pass it the arguments in the wrong order, it will quietly return the wrong answer. In fact, the way `day_of_year()` is designed, [depending on where they are from](https://en.wikipedia.org/wiki/Date_format_by_country), someone will likely pass the arguments in the wrong order!\n",
    "\n",
    "---\n",
    "🚩 ***Task 6:*** The code below checks that `month` is indeed a number between 1 and 12, and **raises an error** with the `raise` keyword to exit the function immediately if it's not -- with a helpful error message for the user. Here, we choose to raise a `ValueError`, since the problem is with an inappropriate value.\n",
    "\n",
    "Continuing with your function from *Task 3*, add further checks at the start of the function to check that the input arguments take appropriate values."
   ]
  },
  {
   "cell_type": "code",
   "execution_count": null,
   "metadata": {},
   "outputs": [],
   "source": [
    "def day_of_year(day_of_month, month, year):\n",
    "    \n",
    "    if month < 1 or month > 12:\n",
    "        raise ValueError('Please choose a month between 1 (January) and 12 (December)!')\n",
    "    \n",
    "    month_length = [31, 28, 31, 30, 31, 30, 31, 31, 30, 31, 30, 31]\n",
    "    \n",
    "    # Add your code below...\n",
    "    \n",
    "\n",
    "\n",
    "# Testing\n",
    "print(day_of_year(2, 14, 1989))\n",
    "print(day_of_year(31, 2, 2025))"
   ]
  },
  {
   "cell_type": "markdown",
   "metadata": {},
   "source": [
    "---\n",
    "🚩 ***Task 7:*** In some cases, you might want to make a small change to an input value but continue with your function nonetheless -- in that case, display a message to inform the user.\n",
    "\n",
    "Add further checks on the input arguments, so that if floating point numbers are given, round them to the nearest integer, inform the user by printing a message, and continue with the rounded values."
   ]
  },
  {
   "cell_type": "code",
   "execution_count": null,
   "metadata": {},
   "outputs": [],
   "source": []
  },
  {
   "cell_type": "markdown",
   "metadata": {},
   "source": [
    "---\n",
    "🚩 ***Task 8 (bonus):*** Modify your function to ensure it also gives the correct result on [leap years](https://www.mathsisfun.com/leap-years.html).\n",
    "\n",
    "You could define a separate function `is_leap_year()` which determines if a given year is a leap year or not, and call that function inside your `day_of_year()` function. In general, ***you should not define a function inside another function.***"
   ]
  },
  {
   "cell_type": "code",
   "execution_count": null,
   "metadata": {},
   "outputs": [],
   "source": []
  }
 ],
 "metadata": {
  "kernelspec": {
   "display_name": "Python 3 (ipykernel)",
   "language": "python",
   "name": "python3"
  },
  "language_info": {
   "codemirror_mode": {
    "name": "ipython",
    "version": 3
   },
   "file_extension": ".py",
   "mimetype": "text/x-python",
   "name": "python",
   "nbconvert_exporter": "python",
   "pygments_lexer": "ipython3",
   "version": "3.9.12"
  }
 },
 "nbformat": 4,
 "nbformat_minor": 4
}
